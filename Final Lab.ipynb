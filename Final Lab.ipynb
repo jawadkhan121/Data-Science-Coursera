{
 "cells": [
  {
   "cell_type": "code",
   "execution_count": 63,
   "id": "a0480fba",
   "metadata": {},
   "outputs": [],
   "source": [
    "import pandas as pd"
   ]
  },
  {
   "cell_type": "code",
   "execution_count": 64,
   "id": "d05b9ee8",
   "metadata": {},
   "outputs": [],
   "source": [
    "\n",
    "medicine= pd.read_csv(\"C:/Users/Jawad Khan/Downloads/medicine (1).csv\")"
   ]
  },
  {
   "cell_type": "code",
   "execution_count": 65,
   "id": "c8419aca",
   "metadata": {},
   "outputs": [
    {
     "data": {
      "text/plain": [
       "(200, 6)"
      ]
     },
     "execution_count": 65,
     "metadata": {},
     "output_type": "execute_result"
    }
   ],
   "source": [
    "\n",
    "medicine.shape"
   ]
  },
  {
   "cell_type": "code",
   "execution_count": 66,
   "id": "658c5ea1",
   "metadata": {},
   "outputs": [
    {
     "data": {
      "text/html": [
       "<div>\n",
       "<style scoped>\n",
       "    .dataframe tbody tr th:only-of-type {\n",
       "        vertical-align: middle;\n",
       "    }\n",
       "\n",
       "    .dataframe tbody tr th {\n",
       "        vertical-align: top;\n",
       "    }\n",
       "\n",
       "    .dataframe thead th {\n",
       "        text-align: right;\n",
       "    }\n",
       "</style>\n",
       "<table border=\"1\" class=\"dataframe\">\n",
       "  <thead>\n",
       "    <tr style=\"text-align: right;\">\n",
       "      <th></th>\n",
       "      <th>Cholesterol</th>\n",
       "      <th>Medicine</th>\n",
       "      <th>Age</th>\n",
       "      <th>gender</th>\n",
       "      <th>blood pressure</th>\n",
       "      <th>SodiumLevel</th>\n",
       "    </tr>\n",
       "  </thead>\n",
       "  <tbody>\n",
       "    <tr>\n",
       "      <th>0</th>\n",
       "      <td>High</td>\n",
       "      <td>Osnate</td>\n",
       "      <td>23</td>\n",
       "      <td>Female</td>\n",
       "      <td>High</td>\n",
       "      <td>25</td>\n",
       "    </tr>\n",
       "    <tr>\n",
       "      <th>1</th>\n",
       "      <td>High</td>\n",
       "      <td>Flagyl</td>\n",
       "      <td>47</td>\n",
       "      <td>Male</td>\n",
       "      <td>Low</td>\n",
       "      <td>13</td>\n",
       "    </tr>\n",
       "    <tr>\n",
       "      <th>2</th>\n",
       "      <td>High</td>\n",
       "      <td>Flagyl</td>\n",
       "      <td>47</td>\n",
       "      <td>Male</td>\n",
       "      <td>Low</td>\n",
       "      <td>10</td>\n",
       "    </tr>\n",
       "    <tr>\n",
       "      <th>3</th>\n",
       "      <td>High</td>\n",
       "      <td>Bonmin</td>\n",
       "      <td>28</td>\n",
       "      <td>Female</td>\n",
       "      <td>Normal</td>\n",
       "      <td>8</td>\n",
       "    </tr>\n",
       "    <tr>\n",
       "      <th>4</th>\n",
       "      <td>High</td>\n",
       "      <td>Osnate</td>\n",
       "      <td>61</td>\n",
       "      <td>Female</td>\n",
       "      <td>Low</td>\n",
       "      <td>18</td>\n",
       "    </tr>\n",
       "  </tbody>\n",
       "</table>\n",
       "</div>"
      ],
      "text/plain": [
       "  Cholesterol Medicine  Age  gender blood pressure  SodiumLevel\n",
       "0        High   Osnate   23  Female           High           25\n",
       "1        High   Flagyl   47    Male            Low           13\n",
       "2        High   Flagyl   47    Male            Low           10\n",
       "3        High   Bonmin   28  Female         Normal            8\n",
       "4        High   Osnate   61  Female            Low           18"
      ]
     },
     "execution_count": 66,
     "metadata": {},
     "output_type": "execute_result"
    }
   ],
   "source": [
    "medicine.head()"
   ]
  },
  {
   "cell_type": "code",
   "execution_count": 67,
   "id": "d352e3a4",
   "metadata": {},
   "outputs": [],
   "source": [
    "d = {'High': 1, 'Normal': 0}\n",
    "medicine['Cholesterol'] = medicine['Cholesterol'].map(d)\n",
    "d = {'Female': 1, 'Male': 0}\n",
    "medicine['gender'] = medicine['gender'].map(d)\n",
    "d = {'Low': 0, 'Normal': 1,'High':2}\n",
    "medicine['blood pressure'] = medicine['blood pressure'].map(d)\n",
    "d = {'Osnate': 0, 'Flagyl': 1,'Bonmin':2,'Panadol': 3,'Azomax':4}\n",
    "medicine['Medicine'] = medicine['Medicine'].map(d)\n"
   ]
  },
  {
   "cell_type": "markdown",
   "id": "46d9880d",
   "metadata": {},
   "source": []
  },
  {
   "cell_type": "code",
   "execution_count": 68,
   "id": "76172576",
   "metadata": {},
   "outputs": [
    {
     "data": {
      "text/html": [
       "<div>\n",
       "<style scoped>\n",
       "    .dataframe tbody tr th:only-of-type {\n",
       "        vertical-align: middle;\n",
       "    }\n",
       "\n",
       "    .dataframe tbody tr th {\n",
       "        vertical-align: top;\n",
       "    }\n",
       "\n",
       "    .dataframe thead th {\n",
       "        text-align: right;\n",
       "    }\n",
       "</style>\n",
       "<table border=\"1\" class=\"dataframe\">\n",
       "  <thead>\n",
       "    <tr style=\"text-align: right;\">\n",
       "      <th></th>\n",
       "      <th>Cholesterol</th>\n",
       "      <th>Medicine</th>\n",
       "      <th>Age</th>\n",
       "      <th>gender</th>\n",
       "      <th>blood pressure</th>\n",
       "      <th>SodiumLevel</th>\n",
       "    </tr>\n",
       "  </thead>\n",
       "  <tbody>\n",
       "    <tr>\n",
       "      <th>0</th>\n",
       "      <td>1</td>\n",
       "      <td>0</td>\n",
       "      <td>23</td>\n",
       "      <td>1</td>\n",
       "      <td>2</td>\n",
       "      <td>25</td>\n",
       "    </tr>\n",
       "    <tr>\n",
       "      <th>1</th>\n",
       "      <td>1</td>\n",
       "      <td>1</td>\n",
       "      <td>47</td>\n",
       "      <td>0</td>\n",
       "      <td>0</td>\n",
       "      <td>13</td>\n",
       "    </tr>\n",
       "    <tr>\n",
       "      <th>2</th>\n",
       "      <td>1</td>\n",
       "      <td>1</td>\n",
       "      <td>47</td>\n",
       "      <td>0</td>\n",
       "      <td>0</td>\n",
       "      <td>10</td>\n",
       "    </tr>\n",
       "    <tr>\n",
       "      <th>3</th>\n",
       "      <td>1</td>\n",
       "      <td>2</td>\n",
       "      <td>28</td>\n",
       "      <td>1</td>\n",
       "      <td>1</td>\n",
       "      <td>8</td>\n",
       "    </tr>\n",
       "    <tr>\n",
       "      <th>4</th>\n",
       "      <td>1</td>\n",
       "      <td>0</td>\n",
       "      <td>61</td>\n",
       "      <td>1</td>\n",
       "      <td>0</td>\n",
       "      <td>18</td>\n",
       "    </tr>\n",
       "  </tbody>\n",
       "</table>\n",
       "</div>"
      ],
      "text/plain": [
       "   Cholesterol  Medicine  Age  gender  blood pressure  SodiumLevel\n",
       "0            1         0   23       1               2           25\n",
       "1            1         1   47       0               0           13\n",
       "2            1         1   47       0               0           10\n",
       "3            1         2   28       1               1            8\n",
       "4            1         0   61       1               0           18"
      ]
     },
     "execution_count": 68,
     "metadata": {},
     "output_type": "execute_result"
    }
   ],
   "source": [
    "%matplotlib inline\n",
    "medicine.head()\n"
   ]
  },
  {
   "cell_type": "code",
   "execution_count": 69,
   "id": "31ca4157",
   "metadata": {},
   "outputs": [
    {
     "data": {
      "text/plain": [
       "Index(['Cholesterol', 'Medicine', 'Age', 'gender', 'blood pressure',\n",
       "       'SodiumLevel'],\n",
       "      dtype='object')"
      ]
     },
     "execution_count": 69,
     "metadata": {},
     "output_type": "execute_result"
    }
   ],
   "source": [
    "medicine.keys()"
   ]
  },
  {
   "cell_type": "code",
   "execution_count": 70,
   "id": "9b17b29b",
   "metadata": {},
   "outputs": [
    {
     "data": {
      "text/html": [
       "<div>\n",
       "<style scoped>\n",
       "    .dataframe tbody tr th:only-of-type {\n",
       "        vertical-align: middle;\n",
       "    }\n",
       "\n",
       "    .dataframe tbody tr th {\n",
       "        vertical-align: top;\n",
       "    }\n",
       "\n",
       "    .dataframe thead th {\n",
       "        text-align: right;\n",
       "    }\n",
       "</style>\n",
       "<table border=\"1\" class=\"dataframe\">\n",
       "  <thead>\n",
       "    <tr style=\"text-align: right;\">\n",
       "      <th></th>\n",
       "      <th>Cholesterol</th>\n",
       "      <th>Age</th>\n",
       "      <th>gender</th>\n",
       "      <th>blood pressure</th>\n",
       "      <th>SodiumLevel</th>\n",
       "    </tr>\n",
       "  </thead>\n",
       "  <tbody>\n",
       "    <tr>\n",
       "      <th>0</th>\n",
       "      <td>1</td>\n",
       "      <td>23</td>\n",
       "      <td>1</td>\n",
       "      <td>2</td>\n",
       "      <td>25</td>\n",
       "    </tr>\n",
       "    <tr>\n",
       "      <th>1</th>\n",
       "      <td>1</td>\n",
       "      <td>47</td>\n",
       "      <td>0</td>\n",
       "      <td>0</td>\n",
       "      <td>13</td>\n",
       "    </tr>\n",
       "    <tr>\n",
       "      <th>2</th>\n",
       "      <td>1</td>\n",
       "      <td>47</td>\n",
       "      <td>0</td>\n",
       "      <td>0</td>\n",
       "      <td>10</td>\n",
       "    </tr>\n",
       "    <tr>\n",
       "      <th>3</th>\n",
       "      <td>1</td>\n",
       "      <td>28</td>\n",
       "      <td>1</td>\n",
       "      <td>1</td>\n",
       "      <td>8</td>\n",
       "    </tr>\n",
       "    <tr>\n",
       "      <th>4</th>\n",
       "      <td>1</td>\n",
       "      <td>61</td>\n",
       "      <td>1</td>\n",
       "      <td>0</td>\n",
       "      <td>18</td>\n",
       "    </tr>\n",
       "  </tbody>\n",
       "</table>\n",
       "</div>"
      ],
      "text/plain": [
       "   Cholesterol  Age  gender  blood pressure  SodiumLevel\n",
       "0            1   23       1               2           25\n",
       "1            1   47       0               0           13\n",
       "2            1   47       0               0           10\n",
       "3            1   28       1               1            8\n",
       "4            1   61       1               0           18"
      ]
     },
     "execution_count": 70,
     "metadata": {},
     "output_type": "execute_result"
    }
   ],
   "source": [
    "from sklearn import metrics\n",
    "from sklearn.model_selection import train_test_split\n",
    "X=medicine.drop(labels=['Medicine'],axis=1)\n",
    "Y=medicine['Medicine']\n",
    "X.head()"
   ]
  },
  {
   "cell_type": "code",
   "execution_count": 71,
   "id": "cd33d11d",
   "metadata": {},
   "outputs": [
    {
     "data": {
      "text/plain": [
       "0    0\n",
       "1    1\n",
       "2    1\n",
       "3    2\n",
       "4    0\n",
       "Name: Medicine, dtype: int64"
      ]
     },
     "execution_count": 71,
     "metadata": {},
     "output_type": "execute_result"
    }
   ],
   "source": [
    "Y.head()"
   ]
  },
  {
   "cell_type": "code",
   "execution_count": 72,
   "id": "fa1c16fe",
   "metadata": {},
   "outputs": [
    {
     "name": "stdout",
     "output_type": "stream",
     "text": [
      "(140, 5) (60, 5) (140,) (60,)\n"
     ]
    }
   ],
   "source": [
    "X_train,X_test,Y_train,Y_test=train_test_split(X,Y,test_size=0.3)\n",
    "print(X_train.shape,X_test.shape,Y_train.shape,Y_test.shape)"
   ]
  },
  {
   "cell_type": "code",
   "execution_count": 73,
   "id": "c348c96c",
   "metadata": {},
   "outputs": [
    {
     "name": "stdout",
     "output_type": "stream",
     "text": [
      "accuracy of decision tree is     0.9833333333333333\n",
      "Confusion Matrix of decision tree is    \n",
      " [[26  0  1  0  0]\n",
      " [ 0  9  0  0  0]\n",
      " [ 0  0 15  0  0]\n",
      " [ 0  0  0  3  0]\n",
      " [ 0  0  0  0  6]]\n"
     ]
    },
    {
     "data": {
      "image/png": "[encoded data removed]",
      "text/plain": [
       "<Figure size 640x480 with 1 Axes>"
      ]
     },
     "metadata": {},
     "output_type": "display_data"
    }
   ],
   "source": [
    "from sklearn.metrics import accuracy_score\n",
    "from sklearn.metrics import confusion_matrix\n",
    "from sklearn.tree import DecisionTreeClassifier\n",
    "from sklearn import tree\n",
    "import seaborn as sns\n",
    "import matplotlib.pyplot as plt\n",
    "\n",
    "D_tree= DecisionTreeClassifier()\n",
    "D_tree.fit(X_train,Y_train)\n",
    "Y_pred=D_tree.predict(X_test)\n",
    "print(\"accuracy of decision tree is    \",accuracy_score(Y_test,Y_pred))\n",
    "print(\"Confusion Matrix of decision tree is    \\n\",confusion_matrix(Y_test,Y_pred))\n",
    "tree.plot_tree(D_tree, feature_names=['Cholesterol', 'Medicine', 'Age', 'gender', 'blood pressure',\n",
    "       'SodiumLevel'])\n",
    "plt.show()"
   ]
  },
  {
   "cell_type": "code",
   "execution_count": 77,
   "id": "97dd6e67",
   "metadata": {},
   "outputs": [
    {
     "name": "stderr",
     "output_type": "stream",
     "text": [
      "C:\\Users\\Jawad Khan\\AppData\\Local\\Programs\\Python\\Python310\\lib\\site-packages\\sklearn\\base.py:450: UserWarning: X does not have valid feature names, but DecisionTreeClassifier was fitted with feature names\n",
      "  warnings.warn(\n"
     ]
    },
    {
     "data": {
      "text/plain": [
       "array([3], dtype=int64)"
      ]
     },
     "execution_count": 77,
     "metadata": {},
     "output_type": "execute_result"
    }
   ],
   "source": [
    "D_tree= DecisionTreeClassifier()\n",
    "D_tree.fit(X_train,Y_train)\n",
    "Y_pred=D_tree.predict([[1,23,1,2,8]])\n",
    "Y_pred"
   ]
  },
  {
   "cell_type": "code",
   "execution_count": null,
   "id": "e7dd58e6",
   "metadata": {},
   "outputs": [],
   "source": [
    "print(\"[0] means Osnate\")\n",
    "print(\"[1] means Flygel\")\n",
    "print(\"[2] means Bonmin\")\n",
    "print(\"[3] means Osnate\")\n",
    "print(\"[4] means Osnate\")"
   ]
  },
  {
   "cell_type": "code",
   "execution_count": null,
   "id": "9a064f26",
   "metadata": {},
   "outputs": [],
   "source": []
  }
 ],
 "metadata": {
  "kernelspec": {
   "display_name": "Python 3 (ipykernel)",
   "language": "python",
   "name": "python3"
  },
  "language_info": {
   "codemirror_mode": {
    "name": "ipython",
    "version": 3
   },
   "file_extension": ".py",
   "mimetype": "text/x-python",
   "name": "python",
   "nbconvert_exporter": "python",
   "pygments_lexer": "ipython3",
   "version": "3.10.0"
  }
 },
 "nbformat": 4,
 "nbformat_minor": 5
}
