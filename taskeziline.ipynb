{
 "cells": [
  {
   "cell_type": "code",
   "execution_count": 64,
   "id": "8d2950ab",
   "metadata": {},
   "outputs": [
    {
     "name": "stdout",
     "output_type": "stream",
     "text": [
      "                                                  email  label\n",
      "2995   abc s good morning america ranks it the NUMBE...      1\n",
      "2996   hyperlink hyperlink hyperlink let mortgage le...      1\n",
      "2997   thank you for shopping with us gifts for all ...      1\n",
      "2998   the famous ebay marketing e course learn to s...      1\n",
      "2999   hello this is chinese traditional 子 件 NUMBER世...      1\n"
     ]
    }
   ],
   "source": [
    "import pandas as pd\n",
    "\n",
    "# Load the dataset\n",
    "dataset = pd.read_csv('C:/Users/Jawad Khan/Downloads/spam_or_not_spam.csv')\n",
    "\n",
    "# Display the first few rows of the dataset\n",
    "print(dataset.tail(5))\n"
   ]
  },
  {
   "cell_type": "code",
   "execution_count": 65,
   "id": "e34f540f",
   "metadata": {
    "scrolled": false
   },
   "outputs": [
    {
     "name": "stdout",
     "output_type": "stream",
     "text": [
      "2995    abc good morning america ranks number christma...\n",
      "2996    hyperlink hyperlink hyperlink let mortgage len...\n",
      "2997    thank shopping us gifts occasions free gift nu...\n",
      "2998    famous ebay marketing e course learn sell comp...\n",
      "2999    hello chinese traditional 子 件 number世 o最有效的宣 鞣...\n",
      "Name: cleaned_text, dtype: object\n"
     ]
    }
   ],
   "source": [
    "import pandas as pd\n",
    "import nltk\n",
    "from nltk.corpus import stopwords\n",
    "from nltk.tokenize import word_tokenize\n",
    "import string\n",
    "\n",
    "# Load the dataset\n",
    "\n",
    "\n",
    "# Handle missing values\n",
    "dataset['email'].fillna(\"\", inplace=True)\n",
    "\n",
    "# Define stopwords and punctuation\n",
    "stop_words = set(stopwords.words('english'))\n",
    "punctuations = set(string.punctuation)\n",
    "\n",
    "# Preprocess function\n",
    "def preprocess_text(email):\n",
    "    # Tokenize the text\n",
    "    tokens = word_tokenize(email)\n",
    "    \n",
    "    # Convert to lowercase\n",
    "    tokens = [word.lower() for word in tokens]\n",
    "    \n",
    "    # Remove stopwords and punctuations\n",
    "    tokens = [word for word in tokens if word not in stop_words and word not in punctuations]\n",
    "    \n",
    "    # Rejoin tokens into cleaned text\n",
    "    cleaned_text = ' '.join(tokens)\n",
    "    \n",
    "    return cleaned_text\n",
    "\n",
    "# Apply preprocessing to the 'email' column of the dataset\n",
    "dataset['cleaned_text'] = dataset['email'].apply(preprocess_text)\n",
    "\n",
    "# Display the preprocessed text\n",
    "print(dataset['cleaned_text'].tail())\n"
   ]
  },
  {
   "cell_type": "code",
   "execution_count": 41,
   "id": "ed6fee19",
   "metadata": {},
   "outputs": [
    {
     "name": "stdout",
     "output_type": "stream",
     "text": [
      "Selected Features: ['_______________________________________________', 'address', 'assistance', 'available', 'business', 'buy', 'call', 'cash', 'click', 'combined', 'communication', 'company', 'compliance', 'contact', 'credit', 'date', 'days', 'dear', 'deposit', 'destructive', 'dollars', 'easily', 'email', 'fax', 'fill', 'financial', 'form', 'free', 'fund', 'future', 'guaranteed', 'hours', 'http', 'hyperlink', 'includes', 'income', 'information', 'instructions', 'insurance', 'interest', 'investment', 'legal', 'limited', 'low', 'lowest', 'mailings', 'marketing', 'million', 'money', 'mortgage', 'motivated', 'name', 'obligation', 'offer', 'offers', 'online', 'opportunity', 'opt', 'opted', 'order', 'packed', 'please', 'price', 'prices', 'private', 'products', 'professional', 'professionals', 'profitable', 'promotion', 'purchase', 'rate', 'rates', 'receive', 'registered', 'removal', 'remove', 'removed', 'reply', 'request', 'required', 'retail', 'risk', 'save', 'services', 'shipping', 'sincerely', 'sir', 'special', 'superior', 'thousands', 'today', 'transaction', 'unsubscribed', 'unwanted', 'us', 'valuable', 'visit', 'wish', 'wrote']\n"
     ]
    }
   ],
   "source": [
    "import pandas as pd\n",
    "from sklearn.feature_extraction.text import TfidfVectorizer\n",
    "from sklearn.feature_selection import SelectKBest, f_classif\n",
    "\n",
    "# Load the preprocessed dataset\n",
    "\n",
    "\n",
    "# Split the dataset into features (X) and target (y)\n",
    "X = dataset['cleaned_text']\n",
    "y = dataset['label']  # Assuming 'label' is the column containing spam/ham labels\n",
    "\n",
    "# Create TF-IDF vectorizer\n",
    "vectorizer = TfidfVectorizer()\n",
    "\n",
    "# Transform text data to TF-IDF features\n",
    "X_tfidf = vectorizer.fit_transform(X)\n",
    "\n",
    "# Perform feature selection using SelectKBest and f_classif\n",
    "num_features_to_select = 100  # Number of features to select\n",
    "feature_selector = SelectKBest(f_classif, k=num_features_to_select)\n",
    "X_selected = feature_selector.fit_transform(X_tfidf, y)\n",
    "\n",
    "# Get the selected feature indices\n",
    "selected_feature_indices = feature_selector.get_support(indices=True)\n",
    "\n",
    "# Get the selected feature names\n",
    "selected_feature_names = [vectorizer.get_feature_names_out()[i] for i in selected_feature_indices]\n",
    "\n",
    "# Display the selected feature names\n",
    "print(\"Selected Features:\", selected_feature_names)\n"
   ]
  },
  {
   "cell_type": "code",
   "execution_count": 63,
   "id": "a46a6846",
   "metadata": {},
   "outputs": [
    {
     "name": "stdout",
     "output_type": "stream",
     "text": [
      "Accuracy: 0.87\n",
      "Confusion Matrix:\n",
      " [[745   0]\n",
      " [117  38]]\n"
     ]
    }
   ],
   "source": [
    "import pandas as pd\n",
    "from sklearn.model_selection import train_test_split\n",
    "from sklearn.feature_extraction.text import TfidfVectorizer\n",
    "from sklearn.naive_bayes import MultinomialNB\n",
    "from sklearn.metrics import accuracy_score, confusion_matrix\n",
    "\n",
    "\n",
    "\n",
    "# Split the dataset into features (X) and target (y)\n",
    "X = dataset['cleaned_text']\n",
    "y = dataset['label']  # Assuming 'label' is the column containing spam/ham labels\n",
    "\n",
    "# Create TF-IDF vectorizer\n",
    "vectorizer = TfidfVectorizer()\n",
    "X_tfidf = vectorizer.fit_transform(X)\n",
    "\n",
    "# Split the dataset into training and testing sets\n",
    "X_train, X_test, y_train, y_test = train_test_split(X_tfidf, y, test_size=0.3, random_state=42)\n",
    "\n",
    "# Train the Naive Bayes classifier\n",
    "naive_bayes = MultinomialNB()\n",
    "naive_bayes.fit(X_train, y_train)\n",
    "\n",
    "# Make predictions on the test dataset\n",
    "y_pred = naive_bayes.predict(X_test)\n",
    "\n",
    "# Evaluate the accuracy of the predictions\n",
    "accuracy = accuracy_score(y_test, y_pred)\n",
    "conf_matrix = confusion_matrix(y_test, y_pred)\n",
    "\n",
    "# Print the results\n",
    "print(\"Accuracy:\", accuracy)\n",
    "print(\"Confusion Matrix:\\n\", conf_matrix)\n"
   ]
  },
  {
   "cell_type": "code",
   "execution_count": 61,
   "id": "03cd1aed",
   "metadata": {},
   "outputs": [
    {
     "name": "stdout",
     "output_type": "stream",
     "text": [
      "Accuracy: 0.905\n",
      "Confusion Matrix:\n",
      " [[513   0]\n",
      " [ 57  30]]\n"
     ]
    },
    {
     "data": {
      "image/png": "[encoded data removed]",
      "text/plain": [
       "<Figure size 800x600 with 2 Axes>"
      ]
     },
     "metadata": {},
     "output_type": "display_data"
    }
   ],
   "source": [
    "import pandas as pd\n",
    "import seaborn as sns\n",
    "import matplotlib.pyplot as plt\n",
    "from sklearn.model_selection import train_test_split\n",
    "from sklearn.feature_extraction.text import TfidfVectorizer\n",
    "from sklearn.naive_bayes import MultinomialNB\n",
    "from sklearn.metrics import accuracy_score, confusion_matrix\n",
    "\n",
    "# Load and preprocess your dataset\n",
    "# ...\n",
    "\n",
    "# Split the dataset into features (X) and target (y)\n",
    "X = dataset['cleaned_text']\n",
    "y = dataset['label']  # Assuming 'label' is the column containing spam/ham labels\n",
    "\n",
    "# Create TF-IDF vectorizer\n",
    "vectorizer = TfidfVectorizer()\n",
    "X_tfidf = vectorizer.fit_transform(X)\n",
    "\n",
    "# Split the dataset into training and testing sets\n",
    "X_train, X_test, y_train, y_test = train_test_split(X_tfidf, y, test_size=0.2, random_state=30)\n",
    "\n",
    "# Train the Naive Bayes classifier\n",
    "naive_bayes = MultinomialNB()\n",
    "naive_bayes.fit(X_train, y_train)\n",
    "\n",
    "# Make predictions on the test dataset\n",
    "y_pred = naive_bayes.predict(X_test)\n",
    "\n",
    "# Evaluate the accuracy of the predictions\n",
    "accuracy = accuracy_score(y_test, y_pred)\n",
    "conf_matrix = confusion_matrix(y_test, y_pred)\n",
    "\n",
    "# Print the results\n",
    "print(\"Accuracy:\", accuracy)\n",
    "print(\"Confusion Matrix:\\n\", conf_matrix)\n",
    "\n",
    "# Create a confusion matrix heatmap\n",
    "plt.figure(figsize=(8, 6))\n",
    "sns.heatmap(conf_matrix, annot=True, fmt=\"d\", cmap=\"Blues\",\n",
    "            xticklabels=['Not Spam', 'Spam'],\n",
    "            yticklabels=['Not Spam', 'Spam'])\n",
    "plt.xlabel('Predicted Labels')\n",
    "plt.ylabel('Actual Labels')\n",
    "plt.title('Confusion Matrix')\n",
    "plt.show()\n",
    "\n"
   ]
  },
  {
   "cell_type": "code",
   "execution_count": 62,
   "id": "8ac25d1c",
   "metadata": {},
   "outputs": [
    {
     "name": "stdout",
     "output_type": "stream",
     "text": [
      "Accuracy: 0.905\n"
     ]
    }
   ],
   "source": [
    "# ...\n",
    "\n",
    "# Evaluate the accuracy of the predictions\n",
    "accuracy = accuracy_score(y_test, y_pred)\n",
    "conf_matrix = confusion_matrix(y_test, y_pred)\n",
    "\n",
    "# Print the results\n",
    "print(\"Accuracy:\", accuracy)\n",
    "\n",
    "# ...\n"
   ]
  },
  {
   "cell_type": "code",
   "execution_count": null,
   "id": "9864d83a",
   "metadata": {},
   "outputs": [],
   "source": []
  }
 ],
 "metadata": {
  "kernelspec": {
   "display_name": "Python 3 (ipykernel)",
   "language": "python",
   "name": "python3"
  },
  "language_info": {
   "codemirror_mode": {
    "name": "ipython",
    "version": 3
   },
   "file_extension": ".py",
   "mimetype": "text/x-python",
   "name": "python",
   "nbconvert_exporter": "python",
   "pygments_lexer": "ipython3",
   "version": "3.11.3"
  }
 },
 "nbformat": 4,
 "nbformat_minor": 5
}
